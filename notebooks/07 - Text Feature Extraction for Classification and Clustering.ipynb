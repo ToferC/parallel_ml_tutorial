{
 "cells": [
  {
   "cell_type": "code",
   "execution_count": 1,
   "metadata": {
    "collapsed": false
   },
   "outputs": [
    {
     "data": {
      "text/plain": [
       "<matplotlib.figure.Figure at 0x10640c518>"
      ]
     },
     "metadata": {},
     "output_type": "display_data"
    }
   ],
   "source": [
    "from __future__ import division\n",
    "%matplotlib inline\n",
    "import matplotlib.pyplot as plt\n",
    "import numpy as np\n",
    "\n",
    "# Some nice default configuration for plots\n",
    "plt.rcParams['figure.figsize'] = 10, 7.5\n",
    "plt.rcParams['axes.grid'] = True\n",
    "plt.gray();"
   ]
  },
  {
   "cell_type": "code",
   "execution_count": null,
   "metadata": {
    "collapsed": false
   },
   "outputs": [],
   "source": [
    "%run ../fetch_data.py"
   ]
  },
  {
   "cell_type": "markdown",
   "metadata": {},
   "source": [
    "# Text Feature Extraction for Classification and Clustering"
   ]
  },
  {
   "cell_type": "markdown",
   "metadata": {},
   "source": [
    "Outline of this section:\n",
    "\n",
    "- Turn a corpus of text documents into **feature vectors** using a **Bag of Words** representation,\n",
    "- Train a simple text classifier on the feature vectors,\n",
    "- Wrap the vectorizer and the classifier with a **pipeline**,\n",
    "- Cross-validation and **model selection** on the pipeline."
   ]
  },
  {
   "cell_type": "markdown",
   "metadata": {},
   "source": [
    "## Text Classification in 20 lines of Python"
   ]
  },
  {
   "cell_type": "markdown",
   "metadata": {},
   "source": [
    "Let's start by implementing a canonical text classification example:\n",
    "\n",
    "- The 20 newsgroups dataset: around 18000 text posts from 20 newsgroups forums\n",
    "- Bag of Words features extraction with TF-IDF weighting\n",
    "- Naive Bayes classifier or Linear Support Vector Machine for the classifier itself"
   ]
  },
  {
   "cell_type": "code",
   "execution_count": 2,
   "metadata": {
    "collapsed": false
   },
   "outputs": [
    {
     "name": "stdout",
     "output_type": "stream",
     "text": [
      "Training score: 95.1%\n",
      "Testing score: 85.1%\n"
     ]
    }
   ],
   "source": [
    "from sklearn.datasets import load_files\n",
    "from sklearn.feature_extraction.text import TfidfVectorizer\n",
    "from sklearn.naive_bayes import MultinomialNB\n",
    "\n",
    "# Load the text data\n",
    "categories = [\n",
    "    'alt.atheism',\n",
    "    'talk.religion.misc',\n",
    "    'comp.graphics',\n",
    "    'sci.space',\n",
    "]\n",
    "twenty_train_small = load_files('../datasets/20news-bydate-train/',\n",
    "    categories=categories, encoding='latin-1')\n",
    "twenty_test_small = load_files('../datasets/20news-bydate-test/',\n",
    "    categories=categories, encoding='latin-1')\n",
    "\n",
    "# Turn the text documents into vectors of word frequencies\n",
    "vectorizer = TfidfVectorizer(min_df=2)\n",
    "X_train = vectorizer.fit_transform(twenty_train_small.data)\n",
    "y_train = twenty_train_small.target\n",
    "\n",
    "# Fit a classifier on the training set\n",
    "classifier = MultinomialNB().fit(X_train, y_train)\n",
    "print(\"Training score: {0:.1f}%\".format(\n",
    "    classifier.score(X_train, y_train) * 100))\n",
    "\n",
    "# Evaluate the classifier on the testing set\n",
    "X_test = vectorizer.transform(twenty_test_small.data)\n",
    "y_test = twenty_test_small.target\n",
    "print(\"Testing score: {0:.1f}%\".format(\n",
    "    classifier.score(X_test, y_test) * 100))"
   ]
  },
  {
   "cell_type": "markdown",
   "metadata": {},
   "source": [
    "Here is a workflow diagram summary of what happened previously:"
   ]
  },
  {
   "cell_type": "markdown",
   "metadata": {},
   "source": [
    "<img src=\"files/images/supervised_scikit_learn.png\" />"
   ]
  },
  {
   "cell_type": "markdown",
   "metadata": {},
   "source": [
    "Let's now decompose what we just did to understand and customize each step."
   ]
  },
  {
   "cell_type": "markdown",
   "metadata": {},
   "source": [
    "### Loading the Dataset"
   ]
  },
  {
   "cell_type": "markdown",
   "metadata": {},
   "source": [
    "Let's explore the dataset loading utility without passing a list of categories: in this case we load the full 20 newsgroups dataset in memory. The source website for the 20 newsgroups already provides a date-based train / test split that is made available using the `subset` keyword argument: "
   ]
  },
  {
   "cell_type": "code",
   "execution_count": 3,
   "metadata": {
    "collapsed": false
   },
   "outputs": [
    {
     "name": "stdout",
     "output_type": "stream",
     "text": [
      "total 28256\r\n",
      "drwxr-xr-x  22 christopherallison  staff   748B 18 Mar  2003 \u001b[34m20news-bydate-test\u001b[m\u001b[m/\r\n",
      "drwxr-xr-x  22 christopherallison  staff   748B 18 Mar  2003 \u001b[34m20news-bydate-train\u001b[m\u001b[m/\r\n",
      "-rw-r--r--   1 christopherallison  staff    14M 11 Oct 12:50 20news-bydate.tar.gz\r\n"
     ]
    }
   ],
   "source": [
    "ls -lh ../datasets/"
   ]
  },
  {
   "cell_type": "code",
   "execution_count": 4,
   "metadata": {
    "collapsed": false
   },
   "outputs": [
    {
     "name": "stdout",
     "output_type": "stream",
     "text": [
      "total 0\r\n",
      "drwxr-xr-x  482 christopherallison  staff    16K 18 Mar  2003 \u001b[34malt.atheism\u001b[m\u001b[m/\r\n",
      "drwxr-xr-x  586 christopherallison  staff    19K 18 Mar  2003 \u001b[34mcomp.graphics\u001b[m\u001b[m/\r\n",
      "drwxr-xr-x  593 christopherallison  staff    20K 18 Mar  2003 \u001b[34mcomp.os.ms-windows.misc\u001b[m\u001b[m/\r\n",
      "drwxr-xr-x  592 christopherallison  staff    20K 18 Mar  2003 \u001b[34mcomp.sys.ibm.pc.hardware\u001b[m\u001b[m/\r\n",
      "drwxr-xr-x  580 christopherallison  staff    19K 18 Mar  2003 \u001b[34mcomp.sys.mac.hardware\u001b[m\u001b[m/\r\n",
      "drwxr-xr-x  595 christopherallison  staff    20K 18 Mar  2003 \u001b[34mcomp.windows.x\u001b[m\u001b[m/\r\n",
      "drwxr-xr-x  587 christopherallison  staff    19K 18 Mar  2003 \u001b[34mmisc.forsale\u001b[m\u001b[m/\r\n",
      "drwxr-xr-x  596 christopherallison  staff    20K 18 Mar  2003 \u001b[34mrec.autos\u001b[m\u001b[m/\r\n",
      "drwxr-xr-x  600 christopherallison  staff    20K 18 Mar  2003 \u001b[34mrec.motorcycles\u001b[m\u001b[m/\r\n",
      "drwxr-xr-x  599 christopherallison  staff    20K 18 Mar  2003 \u001b[34mrec.sport.baseball\u001b[m\u001b[m/\r\n",
      "drwxr-xr-x  602 christopherallison  staff    20K 18 Mar  2003 \u001b[34mrec.sport.hockey\u001b[m\u001b[m/\r\n",
      "drwxr-xr-x  597 christopherallison  staff    20K 18 Mar  2003 \u001b[34msci.crypt\u001b[m\u001b[m/\r\n",
      "drwxr-xr-x  593 christopherallison  staff    20K 18 Mar  2003 \u001b[34msci.electronics\u001b[m\u001b[m/\r\n",
      "drwxr-xr-x  596 christopherallison  staff    20K 18 Mar  2003 \u001b[34msci.med\u001b[m\u001b[m/\r\n",
      "drwxr-xr-x  595 christopherallison  staff    20K 18 Mar  2003 \u001b[34msci.space\u001b[m\u001b[m/\r\n",
      "drwxr-xr-x  601 christopherallison  staff    20K 18 Mar  2003 \u001b[34msoc.religion.christian\u001b[m\u001b[m/\r\n",
      "drwxr-xr-x  548 christopherallison  staff    18K 18 Mar  2003 \u001b[34mtalk.politics.guns\u001b[m\u001b[m/\r\n",
      "drwxr-xr-x  566 christopherallison  staff    19K 18 Mar  2003 \u001b[34mtalk.politics.mideast\u001b[m\u001b[m/\r\n",
      "drwxr-xr-x  467 christopherallison  staff    16K 18 Mar  2003 \u001b[34mtalk.politics.misc\u001b[m\u001b[m/\r\n",
      "drwxr-xr-x  379 christopherallison  staff    13K 18 Mar  2003 \u001b[34mtalk.religion.misc\u001b[m\u001b[m/\r\n"
     ]
    }
   ],
   "source": [
    "ls -lh ../datasets/20news-bydate-train"
   ]
  },
  {
   "cell_type": "code",
   "execution_count": 5,
   "metadata": {
    "collapsed": false
   },
   "outputs": [],
   "source": [
    "# ls -lh ../datasets/20news-bydate-train/alt.atheism/"
   ]
  },
  {
   "cell_type": "markdown",
   "metadata": {},
   "source": [
    "The `load_files` function can load text files from a 2 levels folder structure assuming folder names represent categories:"
   ]
  },
  {
   "cell_type": "code",
   "execution_count": 6,
   "metadata": {
    "collapsed": false
   },
   "outputs": [],
   "source": [
    "# print(load_files.__doc__)"
   ]
  },
  {
   "cell_type": "code",
   "execution_count": 7,
   "metadata": {
    "collapsed": false
   },
   "outputs": [],
   "source": [
    "all_twenty_train = load_files('../datasets/20news-bydate-train/',\n",
    "    encoding='latin-1', random_state=42)\n",
    "all_twenty_test = load_files('../datasets/20news-bydate-test/',\n",
    "    encoding='latin-1', random_state=42)"
   ]
  },
  {
   "cell_type": "code",
   "execution_count": 8,
   "metadata": {
    "collapsed": false
   },
   "outputs": [
    {
     "data": {
      "text/plain": [
       "['data', 'filenames', 'target', 'target_names', 'DESCR']"
      ]
     },
     "execution_count": 8,
     "metadata": {},
     "output_type": "execute_result"
    }
   ],
   "source": [
    "list(all_twenty_train.keys())"
   ]
  },
  {
   "cell_type": "code",
   "execution_count": 9,
   "metadata": {
    "collapsed": false
   },
   "outputs": [
    {
     "data": {
      "text/plain": [
       "['alt.atheism',\n",
       " 'comp.graphics',\n",
       " 'comp.os.ms-windows.misc',\n",
       " 'comp.sys.ibm.pc.hardware',\n",
       " 'comp.sys.mac.hardware',\n",
       " 'comp.windows.x',\n",
       " 'misc.forsale',\n",
       " 'rec.autos',\n",
       " 'rec.motorcycles',\n",
       " 'rec.sport.baseball',\n",
       " 'rec.sport.hockey',\n",
       " 'sci.crypt',\n",
       " 'sci.electronics',\n",
       " 'sci.med',\n",
       " 'sci.space',\n",
       " 'soc.religion.christian',\n",
       " 'talk.politics.guns',\n",
       " 'talk.politics.mideast',\n",
       " 'talk.politics.misc',\n",
       " 'talk.religion.misc']"
      ]
     },
     "execution_count": 9,
     "metadata": {},
     "output_type": "execute_result"
    }
   ],
   "source": [
    "all_target_names = all_twenty_train.target_names\n",
    "all_target_names"
   ]
  },
  {
   "cell_type": "code",
   "execution_count": 10,
   "metadata": {
    "collapsed": false
   },
   "outputs": [
    {
     "data": {
      "text/plain": [
       "array([12,  6,  9, ...,  9,  1, 12])"
      ]
     },
     "execution_count": 10,
     "metadata": {},
     "output_type": "execute_result"
    }
   ],
   "source": [
    "all_twenty_train.target"
   ]
  },
  {
   "cell_type": "code",
   "execution_count": 11,
   "metadata": {
    "collapsed": false
   },
   "outputs": [
    {
     "data": {
      "text/plain": [
       "(11314,)"
      ]
     },
     "execution_count": 11,
     "metadata": {},
     "output_type": "execute_result"
    }
   ],
   "source": [
    "all_twenty_train.target.shape"
   ]
  },
  {
   "cell_type": "code",
   "execution_count": 12,
   "metadata": {
    "collapsed": false
   },
   "outputs": [
    {
     "data": {
      "text/plain": [
       "(7532,)"
      ]
     },
     "execution_count": 12,
     "metadata": {},
     "output_type": "execute_result"
    }
   ],
   "source": [
    "all_twenty_test.target.shape"
   ]
  },
  {
   "cell_type": "code",
   "execution_count": 13,
   "metadata": {
    "collapsed": false
   },
   "outputs": [
    {
     "data": {
      "text/plain": [
       "11314"
      ]
     },
     "execution_count": 13,
     "metadata": {},
     "output_type": "execute_result"
    }
   ],
   "source": [
    "len(all_twenty_train.data)"
   ]
  },
  {
   "cell_type": "code",
   "execution_count": 14,
   "metadata": {
    "collapsed": false
   },
   "outputs": [
    {
     "data": {
      "text/plain": [
       "str"
      ]
     },
     "execution_count": 14,
     "metadata": {},
     "output_type": "execute_result"
    }
   ],
   "source": [
    "type(all_twenty_train.data[0])"
   ]
  },
  {
   "cell_type": "code",
   "execution_count": 15,
   "metadata": {
    "collapsed": false
   },
   "outputs": [],
   "source": [
    "def display_sample(i, dataset):\n",
    "    target_id = dataset.target[i]\n",
    "    print(\"Class id: %d\" % target_id)\n",
    "    print(\"Class name: \" + dataset.target_names[target_id])\n",
    "    print(\"Text content:\\n\")\n",
    "    print(dataset.data[i])"
   ]
  },
  {
   "cell_type": "code",
   "execution_count": 16,
   "metadata": {
    "collapsed": false
   },
   "outputs": [
    {
     "name": "stdout",
     "output_type": "stream",
     "text": [
      "Class id: 12\n",
      "Class name: sci.electronics\n",
      "Text content:\n",
      "\n",
      "From: wtm@uhura.neoucom.edu (Bill Mayhew)\n",
      "Subject: Re: How to the disks copy protected.\n",
      "Organization: Northeastern Ohio Universities College of Medicine\n",
      "Lines: 23\n",
      "\n",
      "Write a good manual to go with the software.  The hassle of\n",
      "photocopying the manual is offset by simplicity of purchasing\n",
      "the package for only $15.  Also, consider offering an inexpensive\n",
      "but attractive perc for registered users.  For instance, a coffee\n",
      "mug.  You could produce and mail the incentive for a couple of\n",
      "dollars, so consider pricing the product at $17.95.\n",
      "\n",
      "You're lucky if only 20% of the instances of your program in use\n",
      "are non-licensed users.\n",
      "\n",
      "The best approach is to estimate your loss and accomodate that into\n",
      "your price structure.  Sure it hurts legitimate users, but too bad.\n",
      "Retailers have to charge off loss to shoplifters onto paying\n",
      "customers; the software industry is the same.\n",
      "\n",
      "Unless your product is exceptionally unique, using an ostensibly\n",
      "copy-proof disk will just send your customers to the competetion.\n",
      "\n",
      "\n",
      "-- \n",
      "Bill Mayhew      NEOUCOM Computer Services Department\n",
      "Rootstown, OH  44272-9995  USA    phone: 216-325-2511\n",
      "wtm@uhura.neoucom.edu (140.220.1.1)    146.580: N8WED\n",
      "\n"
     ]
    }
   ],
   "source": [
    "display_sample(0, all_twenty_train)"
   ]
  },
  {
   "cell_type": "code",
   "execution_count": 17,
   "metadata": {
    "collapsed": false
   },
   "outputs": [
    {
     "name": "stdout",
     "output_type": "stream",
     "text": [
      "Class id: 6\n",
      "Class name: misc.forsale\n",
      "Text content:\n",
      "\n",
      "From: andy@SAIL.Stanford.EDU (Andy Freeman)\n",
      "Subject: Re: Catalog of Hard-to-Find PC Enhancements (Repost)\n",
      "Organization: Computer Science Department,  Stanford University.\n",
      "Lines: 33\n",
      "\n",
      ">andy@SAIL.Stanford.EDU (Andy Freeman) writes:\n",
      ">> >In article <C5ELME.4z4@unix.portal.com> jdoll@shell.portal.com (Joe Doll) wr\n",
      ">> >>   \"The Catalog of Personal Computing Tools for Engineers and Scien-\n",
      ">> >>   tists\" lists hardware cards and application software packages for \n",
      ">> >>   PC/XT/AT/PS/2 class machines.  Focus is on engineering and scien-\n",
      ">> >>   tific applications of PCs, such as data acquisition/control, \n",
      ">> >>   design automation, and data analysis and presentation.  \n",
      ">> >\n",
      ">> >>   If you would like a free copy, reply with your (U. S. Postal) \n",
      ">> >>   mailing address.\n",
      ">> \n",
      ">> Don't bother - it never comes.  It's a cheap trick for building a\n",
      ">> mailing list to sell if my junk mail flow is any indication.\n",
      ">> \n",
      ">> -andy sent his address months ago\n",
      ">\n",
      ">Perhaps we can get Portal to nuke this weasal.  I never received a \n",
      ">catalog either.  If that person doesn't respond to a growing flame, then \n",
      ">we can assume that we'yall look forward to lotsa junk mail.\n",
      "\n",
      "I don't want him nuked, I want him to be honest.  The junk mail has\n",
      "been much more interesting than the promised catalog.  If I'd known\n",
      "what I was going to get, I wouldn't have hesitated.  I wouldn't be\n",
      "surprised if there were other folks who looked at the ad and said\n",
      "\"nope\" but who would be very interested in the junk mail that results.\n",
      "Similarly, there are people who wanted the advertised catalog who\n",
      "aren't happy with the junk they got instead.\n",
      "\n",
      "The folks buying the mailing lists would prefer an honest ad, and\n",
      "so would the people reading it.\n",
      "\n",
      "-andy\n",
      "--\n",
      "\n"
     ]
    }
   ],
   "source": [
    "display_sample(1, all_twenty_train)"
   ]
  },
  {
   "cell_type": "markdown",
   "metadata": {},
   "source": [
    "Let's compute the (uncompressed, in-memory) size of the training and test sets in MB assuming an 8-bit encoding (in this case, all chars can be encoded using the latin-1 charset)."
   ]
  },
  {
   "cell_type": "code",
   "execution_count": 18,
   "metadata": {
    "collapsed": false
   },
   "outputs": [
    {
     "name": "stdout",
     "output_type": "stream",
     "text": [
      "Training set size: 176 MB\n",
      "Testing set size: 110 MB\n"
     ]
    }
   ],
   "source": [
    "def text_size(text, charset='iso-8859-1'):\n",
    "    return len(text.encode(charset)) * 8 * 1e-6\n",
    "\n",
    "train_size_mb = sum(text_size(text) for text in all_twenty_train.data) \n",
    "test_size_mb = sum(text_size(text) for text in all_twenty_test.data)\n",
    "\n",
    "print(\"Training set size: {0} MB\".format(int(train_size_mb)))\n",
    "print(\"Testing set size: {0} MB\".format(int(test_size_mb)))"
   ]
  },
  {
   "cell_type": "markdown",
   "metadata": {},
   "source": [
    "If we only consider a small subset of the 4 categories selected from the initial example:"
   ]
  },
  {
   "cell_type": "code",
   "execution_count": 19,
   "metadata": {
    "collapsed": false
   },
   "outputs": [
    {
     "data": {
      "text/plain": [
       "['alt.atheism', 'comp.graphics', 'sci.space', 'talk.religion.misc']"
      ]
     },
     "execution_count": 19,
     "metadata": {},
     "output_type": "execute_result"
    }
   ],
   "source": [
    "twenty_train_small.target_names"
   ]
  },
  {
   "cell_type": "code",
   "execution_count": 20,
   "metadata": {
    "collapsed": false
   },
   "outputs": [
    {
     "name": "stdout",
     "output_type": "stream",
     "text": [
      "Training set size: 31 MB\n",
      "Testing set size: 22 MB\n"
     ]
    }
   ],
   "source": [
    "train_small_size_mb = sum(text_size(text) for text in twenty_train_small.data) \n",
    "test_small_size_mb = sum(text_size(text) for text in twenty_test_small.data)\n",
    "\n",
    "print(\"Training set size: {0} MB\".format(int(train_small_size_mb)))\n",
    "print(\"Testing set size: {0} MB\".format(int(test_small_size_mb)))"
   ]
  },
  {
   "cell_type": "markdown",
   "metadata": {},
   "source": [
    "### Extracting Text Features"
   ]
  },
  {
   "cell_type": "code",
   "execution_count": 21,
   "metadata": {
    "collapsed": false
   },
   "outputs": [
    {
     "data": {
      "text/plain": [
       "TfidfVectorizer(analyzer='word', binary=False, decode_error='strict',\n",
       "        dtype=<class 'numpy.int64'>, encoding='utf-8', input='content',\n",
       "        lowercase=True, max_df=1.0, max_features=None, min_df=1,\n",
       "        ngram_range=(1, 1), norm='l2', preprocessor=None, smooth_idf=True,\n",
       "        stop_words=None, strip_accents=None, sublinear_tf=False,\n",
       "        token_pattern='(?u)\\\\b\\\\w\\\\w+\\\\b', tokenizer=None, use_idf=True,\n",
       "        vocabulary=None)"
      ]
     },
     "execution_count": 21,
     "metadata": {},
     "output_type": "execute_result"
    }
   ],
   "source": [
    "from sklearn.feature_extraction.text import TfidfVectorizer\n",
    "\n",
    "TfidfVectorizer()"
   ]
  },
  {
   "cell_type": "code",
   "execution_count": 22,
   "metadata": {
    "collapsed": false
   },
   "outputs": [
    {
     "name": "stdout",
     "output_type": "stream",
     "text": [
      "CPU times: user 561 ms, sys: 10.5 ms, total: 572 ms\n",
      "Wall time: 571 ms\n"
     ]
    }
   ],
   "source": [
    "vectorizer = TfidfVectorizer(min_df=1)\n",
    "\n",
    "%time X_train_small = vectorizer.fit_transform(twenty_train_small.data)"
   ]
  },
  {
   "cell_type": "markdown",
   "metadata": {},
   "source": [
    "The results is not a `numpy.array` but instead a `scipy.sparse` matrix. This datastructure is quite similar to a 2D numpy array but it does not store the zeros."
   ]
  },
  {
   "cell_type": "code",
   "execution_count": 23,
   "metadata": {
    "collapsed": false
   },
   "outputs": [
    {
     "data": {
      "text/plain": [
       "<2034x34118 sparse matrix of type '<class 'numpy.float64'>'\n",
       "\twith 323433 stored elements in Compressed Sparse Row format>"
      ]
     },
     "execution_count": 23,
     "metadata": {},
     "output_type": "execute_result"
    }
   ],
   "source": [
    "X_train_small"
   ]
  },
  {
   "cell_type": "markdown",
   "metadata": {},
   "source": [
    "scipy.sparse matrices also have a shape attribute to access the dimensions:"
   ]
  },
  {
   "cell_type": "code",
   "execution_count": 24,
   "metadata": {
    "collapsed": false
   },
   "outputs": [],
   "source": [
    "n_samples, n_features = X_train_small.shape"
   ]
  },
  {
   "cell_type": "markdown",
   "metadata": {},
   "source": [
    "This dataset has around 2000 samples (the rows of the data matrix):"
   ]
  },
  {
   "cell_type": "code",
   "execution_count": 25,
   "metadata": {
    "collapsed": false
   },
   "outputs": [
    {
     "data": {
      "text/plain": [
       "2034"
      ]
     },
     "execution_count": 25,
     "metadata": {},
     "output_type": "execute_result"
    }
   ],
   "source": [
    "n_samples"
   ]
  },
  {
   "cell_type": "markdown",
   "metadata": {},
   "source": [
    "This is the same value as the number of strings in the original list of text documents:"
   ]
  },
  {
   "cell_type": "code",
   "execution_count": 26,
   "metadata": {
    "collapsed": false
   },
   "outputs": [
    {
     "data": {
      "text/plain": [
       "2034"
      ]
     },
     "execution_count": 26,
     "metadata": {},
     "output_type": "execute_result"
    }
   ],
   "source": [
    "len(twenty_train_small.data)"
   ]
  },
  {
   "cell_type": "markdown",
   "metadata": {},
   "source": [
    "The columns represent the individual token occurrences:"
   ]
  },
  {
   "cell_type": "code",
   "execution_count": 27,
   "metadata": {
    "collapsed": false
   },
   "outputs": [
    {
     "data": {
      "text/plain": [
       "34118"
      ]
     },
     "execution_count": 27,
     "metadata": {},
     "output_type": "execute_result"
    }
   ],
   "source": [
    "n_features"
   ]
  },
  {
   "cell_type": "markdown",
   "metadata": {},
   "source": [
    "This number is the size of the vocabulary of the model extracted during fit in a Python dictionary:"
   ]
  },
  {
   "cell_type": "code",
   "execution_count": 28,
   "metadata": {
    "collapsed": false
   },
   "outputs": [
    {
     "data": {
      "text/plain": [
       "dict"
      ]
     },
     "execution_count": 28,
     "metadata": {},
     "output_type": "execute_result"
    }
   ],
   "source": [
    "type(vectorizer.vocabulary_)"
   ]
  },
  {
   "cell_type": "code",
   "execution_count": 29,
   "metadata": {
    "collapsed": false
   },
   "outputs": [
    {
     "data": {
      "text/plain": [
       "34118"
      ]
     },
     "execution_count": 29,
     "metadata": {},
     "output_type": "execute_result"
    }
   ],
   "source": [
    "len(vectorizer.vocabulary_)"
   ]
  },
  {
   "cell_type": "markdown",
   "metadata": {},
   "source": [
    "The keys of the `vocabulary_` attribute are also called feature names and can be accessed as a list of strings."
   ]
  },
  {
   "cell_type": "code",
   "execution_count": 30,
   "metadata": {
    "collapsed": false
   },
   "outputs": [
    {
     "data": {
      "text/plain": [
       "34118"
      ]
     },
     "execution_count": 30,
     "metadata": {},
     "output_type": "execute_result"
    }
   ],
   "source": [
    "len(vectorizer.get_feature_names())"
   ]
  },
  {
   "cell_type": "markdown",
   "metadata": {},
   "source": [
    "Here are the first 10 elements (sorted in lexicographical order):"
   ]
  },
  {
   "cell_type": "code",
   "execution_count": 31,
   "metadata": {
    "collapsed": false
   },
   "outputs": [
    {
     "data": {
      "text/plain": [
       "['00',\n",
       " '000',\n",
       " '0000',\n",
       " '00000',\n",
       " '000000',\n",
       " '000005102000',\n",
       " '000021',\n",
       " '000062david42',\n",
       " '0000vec',\n",
       " '0001']"
      ]
     },
     "execution_count": 31,
     "metadata": {},
     "output_type": "execute_result"
    }
   ],
   "source": [
    "vectorizer.get_feature_names()[:10]"
   ]
  },
  {
   "cell_type": "markdown",
   "metadata": {},
   "source": [
    "Let's have a look at the features from the middle:"
   ]
  },
  {
   "cell_type": "code",
   "execution_count": 32,
   "metadata": {
    "collapsed": false
   },
   "outputs": [
    {
     "data": {
      "text/plain": [
       "['inadequate',\n",
       " 'inala',\n",
       " 'inalienable',\n",
       " 'inane',\n",
       " 'inanimate',\n",
       " 'inapplicable',\n",
       " 'inappropriate',\n",
       " 'inappropriately',\n",
       " 'inaudible',\n",
       " 'inbreeding']"
      ]
     },
     "execution_count": 32,
     "metadata": {},
     "output_type": "execute_result"
    }
   ],
   "source": [
    "vectorizer.get_feature_names()[n_features // 2:n_features // 2 + 10]"
   ]
  },
  {
   "cell_type": "markdown",
   "metadata": {},
   "source": [
    "Now that we have extracted a vector representation of the data, it's a good idea to project the data on the first 2D of a Principal Component Analysis to get a feel of the data. Note that the `TruncatedSVD` class can accept `scipy.sparse` matrices as input (as an alternative to numpy arrays):"
   ]
  },
  {
   "cell_type": "code",
   "execution_count": 33,
   "metadata": {
    "collapsed": false
   },
   "outputs": [
    {
     "name": "stdout",
     "output_type": "stream",
     "text": [
      "CPU times: user 95.2 ms, sys: 11.7 ms, total: 107 ms\n",
      "Wall time: 103 ms\n"
     ]
    }
   ],
   "source": [
    "from sklearn.decomposition import TruncatedSVD\n",
    "\n",
    "%time X_train_small_pca = TruncatedSVD(n_components=2).fit_transform(X_train_small)"
   ]
  },
  {
   "cell_type": "code",
   "execution_count": 34,
   "metadata": {
    "collapsed": false
   },
   "outputs": [
    {
     "data": {
      "image/png": "[encoded data removed]",
      "text/plain": [
       "<matplotlib.figure.Figure at 0x109819198>"
      ]
     },
     "metadata": {},
     "output_type": "display_data"
    }
   ],
   "source": [
    "from itertools import cycle\n",
    "\n",
    "colors = ['b', 'g', 'r', 'c', 'm', 'y', 'k']\n",
    "for i, c in zip(np.unique(y_train), cycle(colors)):\n",
    "    plt.scatter(X_train_small_pca[y_train == i, 0],\n",
    "               X_train_small_pca[y_train == i, 1],\n",
    "               c=c, label=twenty_train_small.target_names[i], alpha=0.5)\n",
    "    \n",
    "plt.legend(loc='best');"
   ]
  },
  {
   "cell_type": "markdown",
   "metadata": {},
   "source": [
    "We can observe that there is a large overlap of the samples from different categories. This is to be expected as the PCA linear projection projects data from a 34118 dimensional space down to 2 dimensions: data that is linearly separable in 34118D is often no longer linearly separable in 2D.\n",
    "    \n",
    "Still we can notice an interesting pattern: the newsgroups on religion and atheism occupy the much the same region and computer graphics and space science / space overlap more together than they do with the religion or atheism newsgroups."
   ]
  },
  {
   "cell_type": "markdown",
   "metadata": {},
   "source": [
    "### Training a Classifier on Text Features"
   ]
  },
  {
   "cell_type": "markdown",
   "metadata": {},
   "source": [
    "We have previously extracted a vector representation of the training corpus and put it into a variable name `X_train_small`. To train a supervised model, in this case a classifier, we also need "
   ]
  },
  {
   "cell_type": "code",
   "execution_count": 35,
   "metadata": {
    "collapsed": false
   },
   "outputs": [],
   "source": [
    "y_train_small = twenty_train_small.target"
   ]
  },
  {
   "cell_type": "code",
   "execution_count": 36,
   "metadata": {
    "collapsed": false
   },
   "outputs": [
    {
     "data": {
      "text/plain": [
       "(2034,)"
      ]
     },
     "execution_count": 36,
     "metadata": {},
     "output_type": "execute_result"
    }
   ],
   "source": [
    "y_train_small.shape"
   ]
  },
  {
   "cell_type": "code",
   "execution_count": 37,
   "metadata": {
    "collapsed": false
   },
   "outputs": [
    {
     "data": {
      "text/plain": [
       "array([1, 2, 2, ..., 2, 1, 1])"
      ]
     },
     "execution_count": 37,
     "metadata": {},
     "output_type": "execute_result"
    }
   ],
   "source": [
    "y_train_small"
   ]
  },
  {
   "cell_type": "markdown",
   "metadata": {},
   "source": [
    "We can shape that we have the same number of samples for the input data and the labels:"
   ]
  },
  {
   "cell_type": "code",
   "execution_count": 38,
   "metadata": {
    "collapsed": false
   },
   "outputs": [
    {
     "data": {
      "text/plain": [
       "True"
      ]
     },
     "execution_count": 38,
     "metadata": {},
     "output_type": "execute_result"
    }
   ],
   "source": [
    "X_train_small.shape[0] == y_train_small.shape[0]"
   ]
  },
  {
   "cell_type": "markdown",
   "metadata": {},
   "source": [
    "We can now train a classifier, for instance a Multinomial Naive Bayesian classifier:"
   ]
  },
  {
   "cell_type": "code",
   "execution_count": 39,
   "metadata": {
    "collapsed": false
   },
   "outputs": [
    {
     "data": {
      "text/plain": [
       "MultinomialNB(alpha=0.1, class_prior=None, fit_prior=True)"
      ]
     },
     "execution_count": 39,
     "metadata": {},
     "output_type": "execute_result"
    }
   ],
   "source": [
    "from sklearn.naive_bayes import MultinomialNB\n",
    "\n",
    "clf = MultinomialNB(alpha=0.1)\n",
    "clf"
   ]
  },
  {
   "cell_type": "code",
   "execution_count": 40,
   "metadata": {
    "collapsed": false
   },
   "outputs": [
    {
     "data": {
      "text/plain": [
       "MultinomialNB(alpha=0.1, class_prior=None, fit_prior=True)"
      ]
     },
     "execution_count": 40,
     "metadata": {},
     "output_type": "execute_result"
    }
   ],
   "source": [
    "clf.fit(X_train_small, y_train_small)"
   ]
  },
  {
   "cell_type": "markdown",
   "metadata": {},
   "source": [
    "We can now evaluate the classifier on the testing set. Let's first use the builtin score function, which is the rate of correct classification in the test set:"
   ]
  },
  {
   "cell_type": "code",
   "execution_count": null,
   "metadata": {
    "collapsed": false
   },
   "outputs": [],
   "source": [
    "X_test_small = vectorizer.transform(twenty_test_small.data)\n",
    "y_test_small = twenty_test_small.target"
   ]
  },
  {
   "cell_type": "code",
   "execution_count": null,
   "metadata": {
    "collapsed": false
   },
   "outputs": [],
   "source": [
    "X_test_small.shape"
   ]
  },
  {
   "cell_type": "code",
   "execution_count": null,
   "metadata": {
    "collapsed": false
   },
   "outputs": [],
   "source": [
    "y_test_small.shape"
   ]
  },
  {
   "cell_type": "code",
   "execution_count": null,
   "metadata": {
    "collapsed": false
   },
   "outputs": [],
   "source": [
    "clf.score(X_test_small, y_test_small)"
   ]
  },
  {
   "cell_type": "markdown",
   "metadata": {},
   "source": [
    "We can also compute the score on the test set and observe that the model is both overfitting and underfitting a bit at the same time:"
   ]
  },
  {
   "cell_type": "code",
   "execution_count": null,
   "metadata": {
    "collapsed": false
   },
   "outputs": [],
   "source": [
    "clf.score(X_train_small, y_train_small)"
   ]
  },
  {
   "cell_type": "markdown",
   "metadata": {},
   "source": [
    "### Introspecting the Behavior of the Text Vectorizer"
   ]
  },
  {
   "cell_type": "markdown",
   "metadata": {},
   "source": [
    "The text vectorizer has many parameters to customize it's behavior, in particular how it extracts tokens:"
   ]
  },
  {
   "cell_type": "code",
   "execution_count": null,
   "metadata": {
    "collapsed": false
   },
   "outputs": [],
   "source": [
    "TfidfVectorizer()"
   ]
  },
  {
   "cell_type": "code",
   "execution_count": null,
   "metadata": {
    "collapsed": false
   },
   "outputs": [],
   "source": [
    "print(TfidfVectorizer.__doc__)"
   ]
  },
  {
   "cell_type": "markdown",
   "metadata": {},
   "source": [
    "The easiest way to introspect what the vectorizer is actually doing for a given test of parameters is call the `vectorizer.build_analyzer()` to get an instance of the text analyzer it uses to process the text:"
   ]
  },
  {
   "cell_type": "code",
   "execution_count": null,
   "metadata": {
    "collapsed": false
   },
   "outputs": [],
   "source": [
    "analyzer = TfidfVectorizer().build_analyzer()\n",
    "analyzer(\"I love scikit-learn: this is a cool Python lib!\")"
   ]
  },
  {
   "cell_type": "markdown",
   "metadata": {},
   "source": [
    "You can notice that all the tokens are lowercase, that the single letter word \"I\" was dropped, and that hyphenation is used. Let's change some of that default behavior:"
   ]
  },
  {
   "cell_type": "code",
   "execution_count": null,
   "metadata": {
    "collapsed": false
   },
   "outputs": [],
   "source": [
    "analyzer = TfidfVectorizer(\n",
    "    preprocessor=lambda text: text,  # disable lowercasing\n",
    "    token_pattern=r'(?u)\\b[\\w-]+\\b', # treat hyphen as a letter\n",
    "                                      # do not exclude single letter tokens\n",
    ").build_analyzer()\n",
    "\n",
    "analyzer(\"I love scikit-learn: this is a cool Python lib!\")"
   ]
  },
  {
   "cell_type": "markdown",
   "metadata": {},
   "source": [
    "The analyzer name comes from the Lucene parlance: it wraps the sequential application of:\n",
    "\n",
    "- text preprocessing (processing the text documents as a whole, e.g. lowercasing)\n",
    "- text tokenization (splitting the document into a sequence of tokens)\n",
    "- token filtering and recombination (e.g. n-grams extraction, see later)\n",
    "\n",
    "The analyzer system of scikit-learn is much more basic than lucene's though."
   ]
  },
  {
   "cell_type": "markdown",
   "metadata": {},
   "source": [
    "**Exercise**:\n",
    "\n",
    "- Write a pre-processor callable (e.g. a python function) to remove the headers of the text a newsgroup post.\n",
    "- Vectorize the data again and measure the impact on performance of removing the header info from the dataset.\n",
    "- Do you expect the performance of the model to improve or decrease? What is the score of a uniform random classifier on the same dataset?\n",
    "\n",
    "Hint: the `TfidfVectorizer` class can accept python functions to customize the `preprocessor`, `tokenizer` or `analyzer` stages of the vectorizer.\n",
    "    \n",
    "- type `TfidfVectorizer()` alone in a cell to see the default value of the parameters\n",
    "\n",
    "- type `TfidfVectorizer.__doc__` to print the constructor parameters doc or `?` suffix operator on a any Python class or method to read the docstring or even the `??` operator to read the source code."
   ]
  },
  {
   "cell_type": "code",
   "execution_count": null,
   "metadata": {
    "collapsed": false
   },
   "outputs": [],
   "source": []
  },
  {
   "cell_type": "code",
   "execution_count": null,
   "metadata": {
    "collapsed": false
   },
   "outputs": [],
   "source": [
    "%load solutions/07A_1_strip_headers.py"
   ]
  },
  {
   "cell_type": "code",
   "execution_count": null,
   "metadata": {
    "collapsed": false
   },
   "outputs": [],
   "source": []
  },
  {
   "cell_type": "code",
   "execution_count": null,
   "metadata": {
    "collapsed": false
   },
   "outputs": [],
   "source": [
    "%load solutions/07A_2_evaluate_model.py"
   ]
  },
  {
   "cell_type": "markdown",
   "metadata": {},
   "source": [
    "## Model Selection of the Naive Bayes Classifier Parameter Alone"
   ]
  },
  {
   "cell_type": "markdown",
   "metadata": {},
   "source": [
    "The `MultinomialNB` class is a good baseline classifier for text as it's fast and has few parameters to tweak:"
   ]
  },
  {
   "cell_type": "code",
   "execution_count": null,
   "metadata": {
    "collapsed": false
   },
   "outputs": [],
   "source": [
    "MultinomialNB()"
   ]
  },
  {
   "cell_type": "code",
   "execution_count": null,
   "metadata": {
    "collapsed": false
   },
   "outputs": [],
   "source": [
    "print(MultinomialNB.__doc__)"
   ]
  },
  {
   "cell_type": "markdown",
   "metadata": {},
   "source": [
    "By reading the doc we can see that the `alpha` parameter is a good candidate to adjust the model for the bias (underfitting) vs variance (overfitting) trade-off."
   ]
  },
  {
   "cell_type": "markdown",
   "metadata": {},
   "source": [
    "**Exercise**:\n",
    "    \n",
    "- use the `sklearn.grid_search.GridSearchCV` or the `model_selection.RandomizedGridSeach` utility function from the previous chapters to find a good value for the parameter `alpha`\n",
    "- plots the validation scores (and optionally the training scores) for each value of alpha and identify the areas where model overfits or underfits.\n",
    "    \n",
    "    \n",
    "Hints:\n",
    "    \n",
    "- you can search for values of alpha in the range [0.00001 - 1] using a logarithmic scale\n",
    "- `RandomizedGridSearch` also has a `launch_for_arrays` method as an alternative to `launch_for_splits` in case the CV splits have not been precomputed in advance.\n",
    "1"
   ]
  },
  {
   "cell_type": "code",
   "execution_count": null,
   "metadata": {
    "collapsed": false
   },
   "outputs": [],
   "source": []
  },
  {
   "cell_type": "code",
   "execution_count": null,
   "metadata": {
    "collapsed": false
   },
   "outputs": [],
   "source": [
    "%load solutions/07B_grid_search_alpha_nb.py"
   ]
  },
  {
   "cell_type": "code",
   "execution_count": null,
   "metadata": {
    "collapsed": false
   },
   "outputs": [],
   "source": []
  },
  {
   "cell_type": "code",
   "execution_count": null,
   "metadata": {
    "collapsed": false
   },
   "outputs": [],
   "source": [
    "%load solutions/07C_validation_curves_alpha.py"
   ]
  },
  {
   "cell_type": "markdown",
   "metadata": {},
   "source": [
    "## Setting Up a Pipeline for Cross Validation and Model Selection of the Feature Extraction parameters"
   ]
  },
  {
   "cell_type": "markdown",
   "metadata": {},
   "source": [
    "The feature extraction class has many options to customize its behavior:"
   ]
  },
  {
   "cell_type": "code",
   "execution_count": null,
   "metadata": {
    "collapsed": false
   },
   "outputs": [],
   "source": [
    "print(TfidfVectorizer.__doc__)"
   ]
  },
  {
   "cell_type": "markdown",
   "metadata": {},
   "source": [
    "In order to evaluate the impact of the parameters of the feature extraction one can chain a configured feature extraction and linear classifier (as an alternative to the naive Bayes model):"
   ]
  },
  {
   "cell_type": "code",
   "execution_count": null,
   "metadata": {
    "collapsed": false
   },
   "outputs": [],
   "source": [
    "from sklearn.linear_model import PassiveAggressiveClassifier\n",
    "from sklearn.pipeline import Pipeline\n",
    "\n",
    "pipeline = Pipeline((\n",
    "    ('vec', TfidfVectorizer(min_df=1, max_df=0.8, use_idf=True)),\n",
    "    ('clf', PassiveAggressiveClassifier(C=1)),\n",
    "))"
   ]
  },
  {
   "cell_type": "markdown",
   "metadata": {},
   "source": [
    "Such a pipeline can then be cross validated or even grid searched:"
   ]
  },
  {
   "cell_type": "code",
   "execution_count": null,
   "metadata": {
    "collapsed": false
   },
   "outputs": [],
   "source": [
    "from sklearn.cross_validation import cross_val_score\n",
    "from scipy.stats import sem\n",
    "\n",
    "scores = cross_val_score(pipeline, twenty_train_small.data,\n",
    "                         twenty_train_small.target, cv=3, n_jobs=-1)\n",
    "scores.mean(), sem(scores)"
   ]
  },
  {
   "cell_type": "markdown",
   "metadata": {},
   "source": [
    "For the grid search, the parameters names are prefixed with the name of the pipeline step using \"__\" as a separator:"
   ]
  },
  {
   "cell_type": "code",
   "execution_count": null,
   "metadata": {
    "collapsed": false
   },
   "outputs": [],
   "source": [
    "from sklearn.grid_search import GridSearchCV\n",
    "\n",
    "parameters = {\n",
    "    #'vec__min_df': [1, 2],\n",
    "    'vec__max_df': [0.8, 1.0],\n",
    "    'vec__ngram_range': [(1, 1), (1, 2)],\n",
    "    'vec__use_idf': [True, False],\n",
    "}\n",
    "\n",
    "gs = GridSearchCV(pipeline, parameters, verbose=2, refit=False)\n",
    "_ = gs.fit(twenty_train_small.data, twenty_train_small.target)"
   ]
  },
  {
   "cell_type": "code",
   "execution_count": null,
   "metadata": {
    "collapsed": false
   },
   "outputs": [],
   "source": [
    "gs.best_score_"
   ]
  },
  {
   "cell_type": "code",
   "execution_count": null,
   "metadata": {
    "collapsed": false
   },
   "outputs": [],
   "source": [
    "gs.best_params_"
   ]
  },
  {
   "cell_type": "markdown",
   "metadata": {},
   "source": [
    "## Introspecting Model Performance"
   ]
  },
  {
   "cell_type": "markdown",
   "metadata": {},
   "source": [
    "### Displaying the Most Discriminative Features"
   ]
  },
  {
   "cell_type": "markdown",
   "metadata": {},
   "source": [
    "Let's fit a model on the small dataset and collect info on the fitted components:"
   ]
  },
  {
   "cell_type": "code",
   "execution_count": null,
   "metadata": {
    "collapsed": false
   },
   "outputs": [],
   "source": [
    "_ = pipeline.fit(twenty_train_small.data, twenty_train_small.target)"
   ]
  },
  {
   "cell_type": "code",
   "execution_count": null,
   "metadata": {
    "collapsed": false
   },
   "outputs": [],
   "source": [
    "vec_name, vec = pipeline.steps[0]\n",
    "clf_name, clf = pipeline.steps[1]\n",
    "\n",
    "feature_names = vec.get_feature_names()\n",
    "target_names = twenty_train_small.target_names\n",
    "\n",
    "feature_weights = clf.coef_\n",
    "\n",
    "feature_weights.shape"
   ]
  },
  {
   "cell_type": "markdown",
   "metadata": {},
   "source": [
    "By sorting the feature weights on the linear model and asking the vectorizer what their names is, one can get a clue on what the model did actually learn on the data:"
   ]
  },
  {
   "cell_type": "code",
   "execution_count": null,
   "metadata": {
    "collapsed": false
   },
   "outputs": [],
   "source": [
    "def display_important_features(feature_names, target_names, weights, n_top=30):\n",
    "    for i, target_name in enumerate(target_names):\n",
    "        print(\"Class: \" + target_name)\n",
    "        print(\"\")\n",
    "        \n",
    "        sorted_features_indices = weights[i].argsort()[::-1]\n",
    "        \n",
    "        most_important = sorted_features_indices[:n_top]\n",
    "        print(\", \".join(\"{0}: {1:.4f}\".format(feature_names[j], weights[i, j])\n",
    "                        for j in most_important))\n",
    "        print(\"...\")\n",
    "        \n",
    "        least_important = sorted_features_indices[-n_top:]\n",
    "        print(\", \".join(\"{0}: {1:.4f}\".format(feature_names[j], weights[i, j])\n",
    "                        for j in least_important))\n",
    "        print(\"\")\n",
    "        \n",
    "display_important_features(feature_names, target_names, feature_weights)"
   ]
  },
  {
   "cell_type": "markdown",
   "metadata": {},
   "source": [
    "### Displaying the per-class Classification Reports"
   ]
  },
  {
   "cell_type": "code",
   "execution_count": null,
   "metadata": {
    "collapsed": false
   },
   "outputs": [],
   "source": [
    "from sklearn.metrics import classification_report\n",
    "\n",
    "predicted = pipeline.predict(twenty_test_small.data)"
   ]
  },
  {
   "cell_type": "code",
   "execution_count": null,
   "metadata": {
    "collapsed": false
   },
   "outputs": [],
   "source": [
    "print(classification_report(twenty_test_small.target, predicted,\n",
    "                            target_names=twenty_test_small.target_names))"
   ]
  },
  {
   "cell_type": "markdown",
   "metadata": {},
   "source": [
    "### Printing the Confusion Matrix"
   ]
  },
  {
   "cell_type": "markdown",
   "metadata": {},
   "source": [
    "The confusion matrix summarize which class where by having a look at off-diagonal entries: here we can see that articles about atheism have been wrongly classified as being about religion 57 times for instance: "
   ]
  },
  {
   "cell_type": "code",
   "execution_count": null,
   "metadata": {
    "collapsed": false
   },
   "outputs": [],
   "source": [
    "from sklearn.metrics import confusion_matrix\n",
    "\n",
    "cm = confusion_matrix(twenty_test_small.target, predicted)\n",
    "cm"
   ]
  },
  {
   "cell_type": "code",
   "execution_count": null,
   "metadata": {
    "collapsed": false
   },
   "outputs": [],
   "source": [
    "twenty_test_small.target_names"
   ]
  },
  {
   "cell_type": "code",
   "execution_count": null,
   "metadata": {
    "collapsed": false
   },
   "outputs": [],
   "source": [
    "def plot_confusion(cm, target_names, title='Confusion matrix'):\n",
    "    plt.imshow(cm, interpolation='nearest', cmap=plt.cm.Blues)\n",
    "    plt.title(title)\n",
    "    plt.colorbar()\n",
    "\n",
    "    tick_marks = np.arange(len(target_names))\n",
    "    plt.xticks(tick_marks, target_names, rotation=60)\n",
    "    plt.yticks(tick_marks, target_names)\n",
    "    plt.ylabel('True label')\n",
    "    plt.xlabel('Predicted label')\n",
    "    # Convenience function to adjust plot parameters for a clear layout.\n",
    "    plt.tight_layout()\n",
    "\n",
    "plot_confusion(cm, twenty_test_small.target_names)"
   ]
  },
  {
   "cell_type": "markdown",
   "metadata": {},
   "source": [
    "## Final exercise: adding a non-descriminative \"junk\" class\n",
    "\n",
    "As we have seen previously, the negative features of a specific class tend.\n",
    "\n",
    "To mitigate this issue we can try to generate some random text documents by randomly assembling snippets from all the other classes (or ideally from random text collected on the web) and give it the target name \"junk\" or \"unknown\".\n",
    "\n",
    "Then we can retrain a model with on a new dataset with the 4 previously used classes along with our new 5-th \"junk\" class. We can then examine the impact on the quality of the model and the negative features for each class."
   ]
  },
  {
   "cell_type": "code",
   "execution_count": null,
   "metadata": {
    "collapsed": false
   },
   "outputs": [],
   "source": []
  },
  {
   "cell_type": "code",
   "execution_count": null,
   "metadata": {
    "collapsed": false
   },
   "outputs": [],
   "source": [
    "%load solutions/07D_junk_class.py"
   ]
  }
 ],
 "metadata": {
  "kernelspec": {
   "display_name": "Python 3",
   "language": "python",
   "name": "python3"
  },
  "language_info": {
   "codemirror_mode": {
    "name": "ipython",
    "version": 3
   },
   "file_extension": ".py",
   "mimetype": "text/x-python",
   "name": "python",
   "nbconvert_exporter": "python",
   "pygments_lexer": "ipython3",
   "version": "3.4.3"
  }
 },
 "nbformat": 4,
 "nbformat_minor": 0
}
